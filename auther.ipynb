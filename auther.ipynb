{
 "cells": [
  {
   "cell_type": "code",
   "execution_count": 1,
   "metadata": {},
   "outputs": [],
   "source": [
    "import os\n",
    "import re\n",
    "\n",
    "import pandas as pd\n",
    "import requests\n",
    "from prettyprinter import cpprint"
   ]
  },
  {
   "cell_type": "code",
   "execution_count": 2,
   "metadata": {},
   "outputs": [],
   "source": [
    "def decode_html(line):\n",
    "    line = line.replace(\"&quot;\", '\"')\n",
    "    line = line.replace(\"&#8230;\", \"…\")\n",
    "    line = line.replace(\"&amp;\", \"&\")\n",
    "    line = line.replace(\"''\", '\"')\n",
    "\n",
    "    return line"
   ]
  },
  {
   "cell_type": "code",
   "execution_count": 123,
   "metadata": {},
   "outputs": [
    {
     "ename": "NameError",
     "evalue": "name '__file__' is not defined",
     "output_type": "error",
     "traceback": [
      "\u001b[1;31m---------------------------------------------------------------------------\u001b[0m",
      "\u001b[1;31mNameError\u001b[0m                                 Traceback (most recent call last)",
      "\u001b[1;32m<ipython-input-123-9710c5238ad4>\u001b[0m in \u001b[0;36m<module>\u001b[1;34m\u001b[0m\n\u001b[0;32m      2\u001b[0m \u001b[0mstart_word\u001b[0m \u001b[1;33m=\u001b[0m \u001b[1;34m'<h2 id=\"toc0\"><span>管理者</span></h2>'\u001b[0m\u001b[1;33m\u001b[0m\u001b[1;33m\u001b[0m\u001b[0m\n\u001b[0;32m      3\u001b[0m \u001b[0mend_word\u001b[0m \u001b[1;33m=\u001b[0m \u001b[1;34m'<h2><span>著者ページへの参加条件</span></h2>'\u001b[0m\u001b[1;33m\u001b[0m\u001b[1;33m\u001b[0m\u001b[0m\n\u001b[1;32m----> 4\u001b[1;33m \u001b[0mmasterpath\u001b[0m \u001b[1;33m=\u001b[0m \u001b[0mos\u001b[0m\u001b[1;33m.\u001b[0m\u001b[0mpath\u001b[0m\u001b[1;33m.\u001b[0m\u001b[0mdirname\u001b[0m\u001b[1;33m(\u001b[0m\u001b[0mos\u001b[0m\u001b[1;33m.\u001b[0m\u001b[0mpath\u001b[0m\u001b[1;33m.\u001b[0m\u001b[0mdirname\u001b[0m\u001b[1;33m(\u001b[0m\u001b[0mos\u001b[0m\u001b[1;33m.\u001b[0m\u001b[0mpath\u001b[0m\u001b[1;33m.\u001b[0m\u001b[0mabspath\u001b[0m\u001b[1;33m(\u001b[0m\u001b[0m__file__\u001b[0m\u001b[1;33m)\u001b[0m\u001b[1;33m)\u001b[0m\u001b[1;33m)\u001b[0m\u001b[1;33m\u001b[0m\u001b[1;33m\u001b[0m\u001b[0m\n\u001b[0m",
      "\u001b[1;31mNameError\u001b[0m: name '__file__' is not defined"
     ]
    }
   ],
   "source": [
    "target_url = \"http://ja.scp-wiki.net/members-pages-jp\"\n",
    "start_word = '<h2 id=\"toc0\"><span>管理者</span></h2>'\n",
    "end_word = '<h2><span>著者ページへの参加条件</span></h2>'"
   ]
  },
  {
   "cell_type": "code",
   "execution_count": 4,
   "metadata": {},
   "outputs": [],
   "source": [
    "response = requests.get(target_url)\n",
    "if response.status_code is not requests.codes.ok:\n",
    "            print(f\"{key} request err : {response.status_code}\")"
   ]
  },
  {
   "cell_type": "code",
   "execution_count": 5,
   "metadata": {},
   "outputs": [],
   "source": [
    "lines = response.text.split(\"\\n\")\n",
    "start = lines.index(start_word)"
   ]
  },
  {
   "cell_type": "code",
   "execution_count": 118,
   "metadata": {},
   "outputs": [],
   "source": [
    "urls = []\n",
    "titles = []\n",
    "authers = []\n",
    "brts = []\n",
    "images = []\n",
    "\n",
    "\n",
    "for line in lines[start:]:\n",
    "    auther = \"\"\n",
    "    title = \"\"\n",
    "    url = \"\"\n",
    "    image = \"\"\n",
    "\n",
    "    if end_word in line:\n",
    "        break\n",
    "    elif '<td><span class=\"printuser avatarhover\">' in line: \n",
    "        line = decode_html(line)\n",
    "        sp_line = re.split('[<>]', line)\n",
    "        sp_line[7] = sp_line[7].replace('img class=\"small\" src=\"', \"\").split()[0]\n",
    "        auther = sp_line[12].replace('\"',\"\")\n",
    "        image = sp_line[7].replace('\"',\"\")\n",
    "        authers.append(auther)\n",
    "        images.append(image)\n",
    "        \n",
    "    elif '<td><span class=\"error-inline\"><em>' in line:\n",
    "        line = decode_html(line)\n",
    "        sp_line = re.split('[<>]', line)\n",
    "        auther = sp_line[6]\n",
    "        authers.append(auther)\n",
    "        images.append(image)\n",
    "\n",
    "    \n",
    "    elif '<td><span' in line:\n",
    "        line = decode_html(line)\n",
    "        sp_line = re.split('[<>]', line)\n",
    "        url = sp_line[7].replace(\"a href=\", \"\").replace('\"',\"\")\n",
    "        title = \"~~\" + sp_line[4] + \"~~\" + sp_line[8]\n",
    "        urls.append(url)\n",
    "        titles.append(title)\n",
    "        brts.append(\"jp\")\n",
    "        \n",
    "    elif '<td><a style' in line:\n",
    "        line = decode_html(line)\n",
    "        sp_line = re.split('[<>]', line)\n",
    "        url = sp_line[3][sp_line[3].find(\"/author\"):].replace('\"', '')\n",
    "        \n",
    "        del sp_line[:4]\n",
    "        del sp_line[-4:]\n",
    "        \n",
    "        sp_line = [v for i,v in enumerate(sp_line) if i % 2 == 0 ]\n",
    "        title = \"\".join(sp_line) \n",
    "        urls.append(url)\n",
    "        titles.append(title)\n",
    "        brts.append(\"jp\")\n",
    "\n",
    "    elif '<td><a href=\"' in line:\n",
    "        line = decode_html(line)\n",
    "        sp_line = re.split('[<>]', line)\n",
    "        url = sp_line[3].replace(\"a href=\", \"\").replace('\"',\"\")\n",
    "        title = sp_line[4].replace('\"',\"\")\n",
    "        urls.append(url)\n",
    "        titles.append(title)\n",
    "        brts.append(\"jp\")\n",
    "        \n",
    "    \n",
    "    elif 'No memberPage' in line:\n",
    "        line = decode_html(line)\n",
    "        sp_line = re.split('[<>]', line)\n",
    "        title = sp_line[2]\n",
    "        urls.append(\"\")\n",
    "        titles.append(title)\n",
    "        brts.append(\"jp\")\n",
    "        \n",
    "    else:\n",
    "        continue  "
   ]
  },
  {
   "cell_type": "code",
   "execution_count": 119,
   "metadata": {},
   "outputs": [],
   "source": [
    "df = pd.DataFrame(columns=['url', 'title', 'auther', 'branches', 'images'])"
   ]
  },
  {
   "cell_type": "code",
   "execution_count": 120,
   "metadata": {},
   "outputs": [],
   "source": [
    "df['url'] = urls\n",
    "df['title'] = titles\n",
    "df['auther'] = authers\n",
    "df['branches'] = brts\n",
    "df['images'] = images"
   ]
  },
  {
   "cell_type": "code",
   "execution_count": 122,
   "metadata": {},
   "outputs": [
    {
     "ename": "NameError",
     "evalue": "name 'masterpath' is not defined",
     "output_type": "error",
     "traceback": [
      "\u001b[1;31m---------------------------------------------------------------------------\u001b[0m",
      "\u001b[1;31mNameError\u001b[0m                                 Traceback (most recent call last)",
      "\u001b[1;32m<ipython-input-122-91b79546c843>\u001b[0m in \u001b[0;36m<module>\u001b[1;34m\u001b[0m\n\u001b[1;32m----> 1\u001b[1;33m \u001b[0mdf\u001b[0m\u001b[1;33m.\u001b[0m\u001b[0mto_csv\u001b[0m\u001b[1;33m(\u001b[0m\u001b[0mmasterpath\u001b[0m \u001b[1;33m+\u001b[0m \u001b[1;34m\"/data/auther.csv\"\u001b[0m\u001b[1;33m,\u001b[0m \u001b[0mheader\u001b[0m\u001b[1;33m=\u001b[0m\u001b[1;32mTrue\u001b[0m\u001b[1;33m,\u001b[0m \u001b[0mencoding\u001b[0m\u001b[1;33m=\u001b[0m\u001b[1;34m\"utf-8\"\u001b[0m\u001b[1;33m)\u001b[0m\u001b[1;33m\u001b[0m\u001b[1;33m\u001b[0m\u001b[0m\n\u001b[0m",
      "\u001b[1;31mNameError\u001b[0m: name 'masterpath' is not defined"
     ]
    }
   ],
   "source": [
    "df.to_csv(masterpath + \"/data/auther.csv\", header=True, encoding=\"utf-8\")"
   ]
  },
  {
   "cell_type": "code",
   "execution_count": null,
   "metadata": {},
   "outputs": [],
   "source": []
  }
 ],
 "metadata": {
  "kernelspec": {
   "display_name": "Python 3",
   "language": "python",
   "name": "python3"
  },
  "language_info": {
   "codemirror_mode": {
    "name": "ipython",
    "version": 3
   },
   "file_extension": ".py",
   "mimetype": "text/x-python",
   "name": "python",
   "nbconvert_exporter": "python",
   "pygments_lexer": "ipython3",
   "version": "3.7.3"
  }
 },
 "nbformat": 4,
 "nbformat_minor": 4
}
